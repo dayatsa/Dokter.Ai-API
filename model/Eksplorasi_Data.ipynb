{
  "nbformat": 4,
  "nbformat_minor": 0,
  "metadata": {
    "colab": {
      "name": "Eksplorasi Data.ipynb",
      "provenance": [],
      "collapsed_sections": [
        "TxXEwJ2FcFls",
        "_TO40DKFo-Jc",
        "8WRsDgu7qdyH",
        "Khz24FxsdVff",
        "dYRmInBfSNQp"
      ],
      "toc_visible": true
    },
    "kernelspec": {
      "name": "python3",
      "display_name": "Python 3"
    },
    "language_info": {
      "name": "python"
    }
  },
  "cells": [
    {
      "cell_type": "markdown",
      "metadata": {
        "id": "qxij63MucIC4"
      },
      "source": [
        "## Eksplorasi Dataset"
      ]
    },
    {
      "cell_type": "markdown",
      "metadata": {
        "id": "wzAE9iPheeWZ"
      },
      "source": [
        "cek link ini bang \n",
        "\n",
        "https://colab.research.google.com/drive/1Q-tNWONNc4kK6FmxPP5gppiuVDwOENUr?usp=sharing"
      ]
    },
    {
      "cell_type": "markdown",
      "metadata": {
        "id": "Iw1tFMZYOfxa"
      },
      "source": [
        "## GIt Clone From Repository"
      ]
    },
    {
      "cell_type": "code",
      "metadata": {
        "id": "kTLsWtfqOioY"
      },
      "source": [
        "!git clone https://github.com/ilhamfzri/B21-CAP0047-Dokter.ai-MachineLearningRepository.git"
      ],
      "execution_count": null,
      "outputs": []
    },
    {
      "cell_type": "markdown",
      "metadata": {
        "id": "NR8TD-8mOV3u"
      },
      "source": [
        "## Install Dependencies"
      ]
    },
    {
      "cell_type": "code",
      "metadata": {
        "colab": {
          "base_uri": "https://localhost:8080/"
        },
        "id": "YbYhDc3NSHsD",
        "outputId": "7b7af9de-7590-46cc-c707-228e2b5ed291"
      },
      "source": [
        "!pip install people-also-ask\n",
        "!pip install git+https://github.com/abenassi/Google-Search-API"
      ],
      "execution_count": null,
      "outputs": [
        {
          "output_type": "stream",
          "text": [
            "Collecting people-also-ask\n",
            "  Downloading https://files.pythonhosted.org/packages/fd/98/0c2d270e07137cd15facfa77dae333258413bdb39b93f441bcaa3df5c020/people_also_ask-0.0.6.tar.gz\n",
            "Requirement already satisfied: beautifulsoup4 in /usr/local/lib/python3.7/dist-packages (from people-also-ask) (4.6.3)\n",
            "Requirement already satisfied: requests in /usr/local/lib/python3.7/dist-packages (from people-also-ask) (2.23.0)\n",
            "Requirement already satisfied: idna<3,>=2.5 in /usr/local/lib/python3.7/dist-packages (from requests->people-also-ask) (2.10)\n",
            "Requirement already satisfied: certifi>=2017.4.17 in /usr/local/lib/python3.7/dist-packages (from requests->people-also-ask) (2020.12.5)\n",
            "Requirement already satisfied: urllib3!=1.25.0,!=1.25.1,<1.26,>=1.21.1 in /usr/local/lib/python3.7/dist-packages (from requests->people-also-ask) (1.24.3)\n",
            "Requirement already satisfied: chardet<4,>=3.0.2 in /usr/local/lib/python3.7/dist-packages (from requests->people-also-ask) (3.0.4)\n",
            "Building wheels for collected packages: people-also-ask\n",
            "  Building wheel for people-also-ask (setup.py) ... \u001b[?25l\u001b[?25hdone\n",
            "  Created wheel for people-also-ask: filename=people_also_ask-0.0.6-cp37-none-any.whl size=10222 sha256=b397622a8102ac3085e16074547e3026ef7c136d72ae59d0765bf082645b6509\n",
            "  Stored in directory: /root/.cache/pip/wheels/7c/e6/c7/f87d1808bf17cc55ec401c3e9690e3a67877dbfc768775c314\n",
            "Successfully built people-also-ask\n",
            "Installing collected packages: people-also-ask\n",
            "Successfully installed people-also-ask-0.0.6\n",
            "Collecting git+https://github.com/abenassi/Google-Search-API\n",
            "  Cloning https://github.com/abenassi/Google-Search-API to /tmp/pip-req-build-i9ujk6wk\n",
            "  Running command git clone -q https://github.com/abenassi/Google-Search-API /tmp/pip-req-build-i9ujk6wk\n",
            "Requirement already satisfied: beautifulsoup4 in /usr/local/lib/python3.7/dist-packages (from Google-Search-API==1.1.14) (4.6.3)\n",
            "Collecting selenium<3.0.0,>=2.44.0\n",
            "\u001b[?25l  Downloading https://files.pythonhosted.org/packages/3f/f8/e46684764161fee7b7d2e0fd9b82d56915438b68e498181dc45183643c82/selenium-2.53.6-py2.py3-none-any.whl (884kB)\n",
            "\u001b[K     |████████████████████████████████| 890kB 7.5MB/s \n",
            "\u001b[?25hRequirement already satisfied: requests in /usr/local/lib/python3.7/dist-packages (from Google-Search-API==1.1.14) (2.23.0)\n",
            "Collecting unidecode\n",
            "\u001b[?25l  Downloading https://files.pythonhosted.org/packages/9e/25/723487ca2a52ebcee88a34d7d1f5a4b80b793f179ee0f62d5371938dfa01/Unidecode-1.2.0-py2.py3-none-any.whl (241kB)\n",
            "\u001b[K     |████████████████████████████████| 245kB 24.8MB/s \n",
            "\u001b[?25hCollecting vcrpy\n",
            "\u001b[?25l  Downloading https://files.pythonhosted.org/packages/6e/62/571e9fa5c2a2c986c001d1be99403a5e800d2e72b905e6b1e951148c75c9/vcrpy-4.1.1-py2.py3-none-any.whl (40kB)\n",
            "\u001b[K     |████████████████████████████████| 40kB 3.8MB/s \n",
            "\u001b[?25hRequirement already satisfied: future in /usr/local/lib/python3.7/dist-packages (from Google-Search-API==1.1.14) (0.16.0)\n",
            "Collecting fake-useragent\n",
            "  Downloading https://files.pythonhosted.org/packages/d1/79/af647635d6968e2deb57a208d309f6069d31cb138066d7e821e575112a80/fake-useragent-0.1.11.tar.gz\n",
            "Requirement already satisfied: certifi>=2017.4.17 in /usr/local/lib/python3.7/dist-packages (from requests->Google-Search-API==1.1.14) (2020.12.5)\n",
            "Requirement already satisfied: urllib3!=1.25.0,!=1.25.1,<1.26,>=1.21.1 in /usr/local/lib/python3.7/dist-packages (from requests->Google-Search-API==1.1.14) (1.24.3)\n",
            "Requirement already satisfied: chardet<4,>=3.0.2 in /usr/local/lib/python3.7/dist-packages (from requests->Google-Search-API==1.1.14) (3.0.4)\n",
            "Requirement already satisfied: idna<3,>=2.5 in /usr/local/lib/python3.7/dist-packages (from requests->Google-Search-API==1.1.14) (2.10)\n",
            "Collecting yarl; python_version >= \"3.6\"\n",
            "\u001b[?25l  Downloading https://files.pythonhosted.org/packages/f1/62/046834c5fc998c88ab2ef722f5d42122230a632212c8afa76418324f53ff/yarl-1.6.3-cp37-cp37m-manylinux2014_x86_64.whl (294kB)\n",
            "\u001b[K     |████████████████████████████████| 296kB 25.0MB/s \n",
            "\u001b[?25hRequirement already satisfied: six>=1.5 in /usr/local/lib/python3.7/dist-packages (from vcrpy->Google-Search-API==1.1.14) (1.15.0)\n",
            "Requirement already satisfied: PyYAML in /usr/local/lib/python3.7/dist-packages (from vcrpy->Google-Search-API==1.1.14) (3.13)\n",
            "Requirement already satisfied: wrapt in /usr/local/lib/python3.7/dist-packages (from vcrpy->Google-Search-API==1.1.14) (1.12.1)\n",
            "Collecting multidict>=4.0\n",
            "\u001b[?25l  Downloading https://files.pythonhosted.org/packages/7c/a6/4123b8165acbe773d1a8dc8e3f0d1edea16d29f7de018eda769abb56bd30/multidict-5.1.0-cp37-cp37m-manylinux2014_x86_64.whl (142kB)\n",
            "\u001b[K     |████████████████████████████████| 143kB 29.3MB/s \n",
            "\u001b[?25hRequirement already satisfied: typing-extensions>=3.7.4; python_version < \"3.8\" in /usr/local/lib/python3.7/dist-packages (from yarl; python_version >= \"3.6\"->vcrpy->Google-Search-API==1.1.14) (3.7.4.3)\n",
            "Building wheels for collected packages: Google-Search-API, fake-useragent\n",
            "  Building wheel for Google-Search-API (setup.py) ... \u001b[?25l\u001b[?25hdone\n",
            "  Created wheel for Google-Search-API: filename=Google_Search_API-1.1.14-cp37-none-any.whl size=607835 sha256=d136c82f26220d4a7e385aecc1e96a1f69b4ba2c46de5f647c7583b5ff0cfb21\n",
            "  Stored in directory: /tmp/pip-ephem-wheel-cache-svxhpbgk/wheels/9d/dd/52/f744758aa94909328835af5d6f1650c9c3d8cf2e6e8988767a\n",
            "  Building wheel for fake-useragent (setup.py) ... \u001b[?25l\u001b[?25hdone\n",
            "  Created wheel for fake-useragent: filename=fake_useragent-0.1.11-cp37-none-any.whl size=13485 sha256=6b9586c0d994590426cf0c8c979f84cf20f58a926e62bdc4e79313254b852edf\n",
            "  Stored in directory: /root/.cache/pip/wheels/5e/63/09/d1dc15179f175357d3f5c00cbffbac37f9e8690d80545143ff\n",
            "Successfully built Google-Search-API fake-useragent\n",
            "Installing collected packages: selenium, unidecode, multidict, yarl, vcrpy, fake-useragent, Google-Search-API\n",
            "Successfully installed Google-Search-API-1.1.14 fake-useragent-0.1.11 multidict-5.1.0 selenium-2.53.6 unidecode-1.2.0 vcrpy-4.1.1 yarl-1.6.3\n"
          ],
          "name": "stdout"
        }
      ]
    },
    {
      "cell_type": "code",
      "metadata": {
        "colab": {
          "base_uri": "https://localhost:8080/"
        },
        "id": "JVykZn_DdCSK",
        "outputId": "b53ae9ca-d6e2-473a-f234-0d64b76d3658"
      },
      "source": [
        "!pip install googletrans==3.1.0a0"
      ],
      "execution_count": null,
      "outputs": [
        {
          "output_type": "stream",
          "text": [
            "Collecting googletrans==3.1.0a0\n",
            "  Downloading https://files.pythonhosted.org/packages/19/3d/4e3a1609bf52f2f7b00436cc751eb977e27040665dde2bd57e7152989672/googletrans-3.1.0a0.tar.gz\n",
            "Collecting httpx==0.13.3\n",
            "\u001b[?25l  Downloading https://files.pythonhosted.org/packages/54/b4/698b284c6aed4d7c2b4fe3ba5df1fcf6093612423797e76fbb24890dd22f/httpx-0.13.3-py3-none-any.whl (55kB)\n",
            "\u001b[K     |████████████████████████████████| 61kB 4.4MB/s \n",
            "\u001b[?25hRequirement already satisfied: certifi in /usr/local/lib/python3.7/dist-packages (from httpx==0.13.3->googletrans==3.1.0a0) (2020.12.5)\n",
            "Requirement already satisfied: chardet==3.* in /usr/local/lib/python3.7/dist-packages (from httpx==0.13.3->googletrans==3.1.0a0) (3.0.4)\n",
            "Collecting hstspreload\n",
            "\u001b[?25l  Downloading https://files.pythonhosted.org/packages/dd/50/606213e12fb49c5eb667df0936223dcaf461f94e215ea60244b2b1e9b039/hstspreload-2020.12.22-py3-none-any.whl (994kB)\n",
            "\u001b[K     |████████████████████████████████| 1.0MB 12.4MB/s \n",
            "\u001b[?25hCollecting httpcore==0.9.*\n",
            "\u001b[?25l  Downloading https://files.pythonhosted.org/packages/dd/d5/e4ff9318693ac6101a2095e580908b591838c6f33df8d3ee8dd953ba96a8/httpcore-0.9.1-py3-none-any.whl (42kB)\n",
            "\u001b[K     |████████████████████████████████| 51kB 5.2MB/s \n",
            "\u001b[?25hRequirement already satisfied: idna==2.* in /usr/local/lib/python3.7/dist-packages (from httpx==0.13.3->googletrans==3.1.0a0) (2.10)\n",
            "Collecting sniffio\n",
            "  Downloading https://files.pythonhosted.org/packages/52/b0/7b2e028b63d092804b6794595871f936aafa5e9322dcaaad50ebf67445b3/sniffio-1.2.0-py3-none-any.whl\n",
            "Collecting rfc3986<2,>=1.3\n",
            "  Downloading https://files.pythonhosted.org/packages/c4/e5/63ca2c4edf4e00657584608bee1001302bbf8c5f569340b78304f2f446cb/rfc3986-1.5.0-py2.py3-none-any.whl\n",
            "Collecting h2==3.*\n",
            "\u001b[?25l  Downloading https://files.pythonhosted.org/packages/25/de/da019bcc539eeab02f6d45836f23858ac467f584bfec7a526ef200242afe/h2-3.2.0-py2.py3-none-any.whl (65kB)\n",
            "\u001b[K     |████████████████████████████████| 71kB 6.4MB/s \n",
            "\u001b[?25hCollecting h11<0.10,>=0.8\n",
            "\u001b[?25l  Downloading https://files.pythonhosted.org/packages/5a/fd/3dad730b0f95e78aeeb742f96fa7bbecbdd56a58e405d3da440d5bfb90c6/h11-0.9.0-py2.py3-none-any.whl (53kB)\n",
            "\u001b[K     |████████████████████████████████| 61kB 6.3MB/s \n",
            "\u001b[?25hCollecting hyperframe<6,>=5.2.0\n",
            "  Downloading https://files.pythonhosted.org/packages/19/0c/bf88182bcb5dce3094e2f3e4fe20db28a9928cb7bd5b08024030e4b140db/hyperframe-5.2.0-py2.py3-none-any.whl\n",
            "Collecting hpack<4,>=3.0\n",
            "  Downloading https://files.pythonhosted.org/packages/8a/cc/e53517f4a1e13f74776ca93271caef378dadec14d71c61c949d759d3db69/hpack-3.0.0-py2.py3-none-any.whl\n",
            "Building wheels for collected packages: googletrans\n",
            "  Building wheel for googletrans (setup.py) ... \u001b[?25l\u001b[?25hdone\n",
            "  Created wheel for googletrans: filename=googletrans-3.1.0a0-cp37-none-any.whl size=16368 sha256=cef14b60fe5051d80c00c53d3b9513705fb8753426c6157248094393be87652b\n",
            "  Stored in directory: /root/.cache/pip/wheels/27/7a/a0/aff3babbb775549ce6813cb8fa7ff3c0848c4dc62c20f8fdac\n",
            "Successfully built googletrans\n",
            "Installing collected packages: hstspreload, hyperframe, hpack, h2, sniffio, h11, httpcore, rfc3986, httpx, googletrans\n",
            "Successfully installed googletrans-3.1.0a0 h11-0.9.0 h2-3.2.0 hpack-3.0.0 hstspreload-2020.12.22 httpcore-0.9.1 httpx-0.13.3 hyperframe-5.2.0 rfc3986-1.5.0 sniffio-1.2.0\n"
          ],
          "name": "stdout"
        }
      ]
    },
    {
      "cell_type": "code",
      "metadata": {
        "colab": {
          "base_uri": "https://localhost:8080/"
        },
        "id": "yyK1nYegRFQO",
        "outputId": "901b2089-b3f8-4008-cd66-6bf8f759d83d"
      },
      "source": [
        "!pip install people-also-ask"
      ],
      "execution_count": null,
      "outputs": [
        {
          "output_type": "stream",
          "text": [
            "Requirement already satisfied: people-also-ask in /usr/local/lib/python3.7/dist-packages (0.0.6)\n",
            "Requirement already satisfied: beautifulsoup4 in /usr/local/lib/python3.7/dist-packages (from people-also-ask) (4.6.3)\n",
            "Requirement already satisfied: requests in /usr/local/lib/python3.7/dist-packages (from people-also-ask) (2.23.0)\n",
            "Requirement already satisfied: idna<3,>=2.5 in /usr/local/lib/python3.7/dist-packages (from requests->people-also-ask) (2.10)\n",
            "Requirement already satisfied: certifi>=2017.4.17 in /usr/local/lib/python3.7/dist-packages (from requests->people-also-ask) (2020.12.5)\n",
            "Requirement already satisfied: urllib3!=1.25.0,!=1.25.1,<1.26,>=1.21.1 in /usr/local/lib/python3.7/dist-packages (from requests->people-also-ask) (1.24.3)\n",
            "Requirement already satisfied: chardet<4,>=3.0.2 in /usr/local/lib/python3.7/dist-packages (from requests->people-also-ask) (3.0.4)\n"
          ],
          "name": "stdout"
        }
      ]
    },
    {
      "cell_type": "code",
      "metadata": {
        "id": "KYD6kLpYOU8j"
      },
      "source": [
        ""
      ],
      "execution_count": null,
      "outputs": []
    },
    {
      "cell_type": "code",
      "metadata": {
        "id": "FmrDOkeJaNWa"
      },
      "source": [
        "import pandas as pd\n",
        "import os\n",
        "# from googletrans import Translator, constants\n",
        "import numpy as np"
      ],
      "execution_count": null,
      "outputs": []
    },
    {
      "cell_type": "code",
      "metadata": {
        "id": "aIzHgHKQbj8j"
      },
      "source": [
        "df = pd.read_csv(\"/content/B21-CAP0047-Dokter.ai-MachineLearningRepository/keggle_dataset/dataset_1/Training.csv\")\n",
        "df = df.drop(columns=['Unnamed: 133'])"
      ],
      "execution_count": null,
      "outputs": []
    },
    {
      "cell_type": "markdown",
      "metadata": {
        "id": "sdh_dISZsaxA"
      },
      "source": [
        "## Penyakit Berdasarkan Gejala"
      ]
    },
    {
      "cell_type": "code",
      "metadata": {
        "id": "ZuABsX-Vbp7C"
      },
      "source": [
        "desease_list = df['prognosis'].unique()"
      ],
      "execution_count": null,
      "outputs": []
    },
    {
      "cell_type": "code",
      "metadata": {
        "id": "RJIP5Y_Lbqny"
      },
      "source": [
        "x = np.array([['Penyakit','Gejala']])\n",
        "for i in desease_list:\n",
        "  list_symptoms=[]\n",
        "  df_temp = df[df['prognosis']==i]\n",
        "  symptoms = df_temp.columns[0:-1]\n",
        "  for j in range(0,df_temp.shape[0]):\n",
        "    for k in symptoms:\n",
        "      if(df_temp.iloc[j][k]==1):\n",
        "        list_symptoms.append(k)\n",
        "  symptoms_1 = np.unique(list_symptoms)\n",
        "  x = np.append(x,[[i,\", \".join(symptoms_1)]],axis=0)\n"
      ],
      "execution_count": null,
      "outputs": []
    },
    {
      "cell_type": "code",
      "metadata": {
        "colab": {
          "base_uri": "https://localhost:8080/",
          "height": 204
        },
        "id": "o1Wpnu-WmwQc",
        "outputId": "1c35e309-beae-46c4-e4b2-4aabd829d783"
      },
      "source": [
        "df_desease_based_symptoms = pd.DataFrame(x,\n",
        "                   columns=['Desease', 'Symptoms'])\n",
        "df_desease_based_symptoms.drop(index=0,inplace=True)\n",
        "df_desease_based_symptoms.head()"
      ],
      "execution_count": null,
      "outputs": [
        {
          "output_type": "execute_result",
          "data": {
            "text/html": [
              "<div>\n",
              "<style scoped>\n",
              "    .dataframe tbody tr th:only-of-type {\n",
              "        vertical-align: middle;\n",
              "    }\n",
              "\n",
              "    .dataframe tbody tr th {\n",
              "        vertical-align: top;\n",
              "    }\n",
              "\n",
              "    .dataframe thead th {\n",
              "        text-align: right;\n",
              "    }\n",
              "</style>\n",
              "<table border=\"1\" class=\"dataframe\">\n",
              "  <thead>\n",
              "    <tr style=\"text-align: right;\">\n",
              "      <th></th>\n",
              "      <th>Desease</th>\n",
              "      <th>Symptoms</th>\n",
              "    </tr>\n",
              "  </thead>\n",
              "  <tbody>\n",
              "    <tr>\n",
              "      <th>1</th>\n",
              "      <td>itching</td>\n",
              "      <td>Fungal infection, Chronic cholestasis, Drug Re...</td>\n",
              "    </tr>\n",
              "    <tr>\n",
              "      <th>2</th>\n",
              "      <td>skin_rash</td>\n",
              "      <td>Fungal infection, Drug Reaction, Chicken pox, ...</td>\n",
              "    </tr>\n",
              "    <tr>\n",
              "      <th>3</th>\n",
              "      <td>nodal_skin_eruptions</td>\n",
              "      <td>Fungal infection</td>\n",
              "    </tr>\n",
              "    <tr>\n",
              "      <th>4</th>\n",
              "      <td>continuous_sneezing</td>\n",
              "      <td>Allergy, Common Cold</td>\n",
              "    </tr>\n",
              "    <tr>\n",
              "      <th>5</th>\n",
              "      <td>shivering</td>\n",
              "      <td>Allergy</td>\n",
              "    </tr>\n",
              "  </tbody>\n",
              "</table>\n",
              "</div>"
            ],
            "text/plain": [
              "                Desease                                           Symptoms\n",
              "1               itching  Fungal infection, Chronic cholestasis, Drug Re...\n",
              "2             skin_rash  Fungal infection, Drug Reaction, Chicken pox, ...\n",
              "3  nodal_skin_eruptions                                   Fungal infection\n",
              "4   continuous_sneezing                               Allergy, Common Cold\n",
              "5             shivering                                            Allergy"
            ]
          },
          "metadata": {
            "tags": []
          },
          "execution_count": 15
        }
      ]
    },
    {
      "cell_type": "code",
      "metadata": {
        "id": "sdEdOOKHrEBS"
      },
      "source": [
        "df_desease_based_symptoms.to_csv(\"desease based symptoms.csv\")"
      ],
      "execution_count": null,
      "outputs": []
    },
    {
      "cell_type": "code",
      "metadata": {
        "id": "AiIvqGq-s5_Q"
      },
      "source": [
        ""
      ],
      "execution_count": null,
      "outputs": []
    },
    {
      "cell_type": "markdown",
      "metadata": {
        "id": "Ufxxl1L9sgo6"
      },
      "source": [
        "## Gejala yang muncul pada penyakit"
      ]
    },
    {
      "cell_type": "code",
      "metadata": {
        "id": "qZ3V97ErsmTa"
      },
      "source": [
        "symptoms = df_temp.columns[0:-1]\n",
        "x = np.array([['Gejala','Penyakit']])\n",
        "for i in symptoms:\n",
        "  desease = list(df[df[i]==1]['prognosis'].unique())\n",
        "  x = np.append(x,[[i,\", \".join(desease)]],axis=0)\n"
      ],
      "execution_count": null,
      "outputs": []
    },
    {
      "cell_type": "code",
      "metadata": {
        "colab": {
          "base_uri": "https://localhost:8080/",
          "height": 419
        },
        "id": "IkRc0TCOt8gu",
        "outputId": "63295dee-0d12-4bcb-8caa-e84224329c4f"
      },
      "source": [
        "df_symptoms = pd.DataFrame(x,\n",
        "                   columns=['Desease', 'Symptoms'])\n",
        "df_symptoms.drop(index=0,inplace=True)\n",
        "df_symptoms"
      ],
      "execution_count": null,
      "outputs": [
        {
          "output_type": "execute_result",
          "data": {
            "text/html": [
              "<div>\n",
              "<style scoped>\n",
              "    .dataframe tbody tr th:only-of-type {\n",
              "        vertical-align: middle;\n",
              "    }\n",
              "\n",
              "    .dataframe tbody tr th {\n",
              "        vertical-align: top;\n",
              "    }\n",
              "\n",
              "    .dataframe thead th {\n",
              "        text-align: right;\n",
              "    }\n",
              "</style>\n",
              "<table border=\"1\" class=\"dataframe\">\n",
              "  <thead>\n",
              "    <tr style=\"text-align: right;\">\n",
              "      <th></th>\n",
              "      <th>Desease</th>\n",
              "      <th>Symptoms</th>\n",
              "    </tr>\n",
              "  </thead>\n",
              "  <tbody>\n",
              "    <tr>\n",
              "      <th>1</th>\n",
              "      <td>itching</td>\n",
              "      <td>Fungal infection, Chronic cholestasis, Drug Re...</td>\n",
              "    </tr>\n",
              "    <tr>\n",
              "      <th>2</th>\n",
              "      <td>skin_rash</td>\n",
              "      <td>Fungal infection, Drug Reaction, Chicken pox, ...</td>\n",
              "    </tr>\n",
              "    <tr>\n",
              "      <th>3</th>\n",
              "      <td>nodal_skin_eruptions</td>\n",
              "      <td>Fungal infection</td>\n",
              "    </tr>\n",
              "    <tr>\n",
              "      <th>4</th>\n",
              "      <td>continuous_sneezing</td>\n",
              "      <td>Allergy, Common Cold</td>\n",
              "    </tr>\n",
              "    <tr>\n",
              "      <th>5</th>\n",
              "      <td>shivering</td>\n",
              "      <td>Allergy</td>\n",
              "    </tr>\n",
              "    <tr>\n",
              "      <th>...</th>\n",
              "      <td>...</td>\n",
              "      <td>...</td>\n",
              "    </tr>\n",
              "    <tr>\n",
              "      <th>128</th>\n",
              "      <td>small_dents_in_nails</td>\n",
              "      <td>Psoriasis</td>\n",
              "    </tr>\n",
              "    <tr>\n",
              "      <th>129</th>\n",
              "      <td>inflammatory_nails</td>\n",
              "      <td>Psoriasis</td>\n",
              "    </tr>\n",
              "    <tr>\n",
              "      <th>130</th>\n",
              "      <td>blister</td>\n",
              "      <td>Impetigo</td>\n",
              "    </tr>\n",
              "    <tr>\n",
              "      <th>131</th>\n",
              "      <td>red_sore_around_nose</td>\n",
              "      <td>Impetigo</td>\n",
              "    </tr>\n",
              "    <tr>\n",
              "      <th>132</th>\n",
              "      <td>yellow_crust_ooze</td>\n",
              "      <td>Impetigo</td>\n",
              "    </tr>\n",
              "  </tbody>\n",
              "</table>\n",
              "<p>132 rows × 2 columns</p>\n",
              "</div>"
            ],
            "text/plain": [
              "                  Desease                                           Symptoms\n",
              "1                 itching  Fungal infection, Chronic cholestasis, Drug Re...\n",
              "2               skin_rash  Fungal infection, Drug Reaction, Chicken pox, ...\n",
              "3    nodal_skin_eruptions                                   Fungal infection\n",
              "4     continuous_sneezing                               Allergy, Common Cold\n",
              "5               shivering                                            Allergy\n",
              "..                    ...                                                ...\n",
              "128  small_dents_in_nails                                          Psoriasis\n",
              "129    inflammatory_nails                                          Psoriasis\n",
              "130               blister                                           Impetigo\n",
              "131  red_sore_around_nose                                           Impetigo\n",
              "132     yellow_crust_ooze                                           Impetigo\n",
              "\n",
              "[132 rows x 2 columns]"
            ]
          },
          "metadata": {
            "tags": []
          },
          "execution_count": 13
        }
      ]
    },
    {
      "cell_type": "code",
      "metadata": {
        "colab": {
          "base_uri": "https://localhost:8080/"
        },
        "id": "_JdLGKSw3fGy",
        "outputId": "abda5421-3bfe-4088-97dd-560b9eafa859"
      },
      "source": [
        "desease_list = df['prognosis'].unique()\n",
        "df_temp = df[df['prognosis']==desease_list[0]]\n",
        "df_temp[df_temp['itching']==1].shape"
      ],
      "execution_count": null,
      "outputs": [
        {
          "output_type": "execute_result",
          "data": {
            "text/plain": [
              "(108, 133)"
            ]
          },
          "metadata": {
            "tags": []
          },
          "execution_count": 14
        }
      ]
    },
    {
      "cell_type": "code",
      "metadata": {
        "id": "3j_RLvYGmNW4"
      },
      "source": [
        ""
      ],
      "execution_count": null,
      "outputs": []
    },
    {
      "cell_type": "markdown",
      "metadata": {
        "id": "TxXEwJ2FcFls"
      },
      "source": [
        "## List Gejala"
      ]
    },
    {
      "cell_type": "code",
      "metadata": {
        "colab": {
          "base_uri": "https://localhost:8080/"
        },
        "id": "TSlpgydmbu4v",
        "outputId": "0fab5516-2b95-4739-88ce-eb19154c5be5"
      },
      "source": [
        "for i in list_symptoms:\n",
        "  print(i)"
      ],
      "execution_count": null,
      "outputs": [
        {
          "output_type": "stream",
          "text": [
            "itching\n",
            "skin_rash\n",
            "nodal_skin_eruptions\n",
            "continuous_sneezing\n",
            "shivering\n",
            "chills\n",
            "joint_pain\n",
            "stomach_pain\n",
            "acidity\n",
            "ulcers_on_tongue\n",
            "muscle_wasting\n",
            "vomiting\n",
            "burning_micturition\n",
            "spotting_ urination\n",
            "fatigue\n",
            "weight_gain\n",
            "anxiety\n",
            "cold_hands_and_feets\n",
            "mood_swings\n",
            "weight_loss\n",
            "restlessness\n",
            "lethargy\n",
            "patches_in_throat\n",
            "irregular_sugar_level\n",
            "cough\n",
            "high_fever\n",
            "sunken_eyes\n",
            "breathlessness\n",
            "sweating\n",
            "dehydration\n",
            "indigestion\n",
            "headache\n",
            "yellowish_skin\n",
            "dark_urine\n",
            "nausea\n",
            "loss_of_appetite\n",
            "pain_behind_the_eyes\n",
            "back_pain\n",
            "constipation\n",
            "abdominal_pain\n",
            "diarrhoea\n",
            "mild_fever\n",
            "yellow_urine\n",
            "yellowing_of_eyes\n",
            "acute_liver_failure\n",
            "fluid_overload\n",
            "swelling_of_stomach\n",
            "swelled_lymph_nodes\n",
            "malaise\n",
            "blurred_and_distorted_vision\n",
            "phlegm\n",
            "throat_irritation\n",
            "redness_of_eyes\n",
            "sinus_pressure\n",
            "runny_nose\n",
            "congestion\n",
            "chest_pain\n",
            "weakness_in_limbs\n",
            "fast_heart_rate\n",
            "pain_during_bowel_movements\n",
            "pain_in_anal_region\n",
            "bloody_stool\n",
            "irritation_in_anus\n",
            "neck_pain\n",
            "dizziness\n",
            "cramps\n",
            "bruising\n",
            "obesity\n",
            "swollen_legs\n",
            "swollen_blood_vessels\n",
            "puffy_face_and_eyes\n",
            "enlarged_thyroid\n",
            "brittle_nails\n",
            "swollen_extremeties\n",
            "excessive_hunger\n",
            "extra_marital_contacts\n",
            "drying_and_tingling_lips\n",
            "slurred_speech\n",
            "knee_pain\n",
            "hip_joint_pain\n",
            "muscle_weakness\n",
            "stiff_neck\n",
            "swelling_joints\n",
            "movement_stiffness\n",
            "spinning_movements\n",
            "loss_of_balance\n",
            "unsteadiness\n",
            "weakness_of_one_body_side\n",
            "loss_of_smell\n",
            "bladder_discomfort\n",
            "foul_smell_of urine\n",
            "continuous_feel_of_urine\n",
            "passage_of_gases\n",
            "internal_itching\n",
            "toxic_look_(typhos)\n",
            "depression\n",
            "irritability\n",
            "muscle_pain\n",
            "altered_sensorium\n",
            "red_spots_over_body\n",
            "belly_pain\n",
            "abnormal_menstruation\n",
            "dischromic _patches\n",
            "watering_from_eyes\n",
            "increased_appetite\n",
            "polyuria\n",
            "family_history\n",
            "mucoid_sputum\n",
            "rusty_sputum\n",
            "lack_of_concentration\n",
            "visual_disturbances\n",
            "receiving_blood_transfusion\n",
            "receiving_unsterile_injections\n",
            "coma\n",
            "stomach_bleeding\n",
            "distention_of_abdomen\n",
            "history_of_alcohol_consumption\n",
            "fluid_overload.1\n",
            "blood_in_sputum\n",
            "prominent_veins_on_calf\n",
            "palpitations\n",
            "painful_walking\n",
            "pus_filled_pimples\n",
            "blackheads\n",
            "scurring\n",
            "skin_peeling\n",
            "silver_like_dusting\n",
            "small_dents_in_nails\n",
            "inflammatory_nails\n",
            "blister\n",
            "red_sore_around_nose\n",
            "yellow_crust_ooze\n",
            "prognosis\n",
            "Unnamed: 133\n"
          ],
          "name": "stdout"
        }
      ]
    },
    {
      "cell_type": "code",
      "metadata": {
        "colab": {
          "base_uri": "https://localhost:8080/"
        },
        "id": "hXdk_7tkb8f1",
        "outputId": "4ca298f5-25dc-4e8a-e819-f69604915a9e"
      },
      "source": [
        "print(\"Banyak Gejala: \",len(list_symptoms))"
      ],
      "execution_count": null,
      "outputs": [
        {
          "output_type": "stream",
          "text": [
            "Banyak Gejala:  134\n"
          ],
          "name": "stdout"
        }
      ]
    },
    {
      "cell_type": "markdown",
      "metadata": {
        "id": "_TO40DKFo-Jc"
      },
      "source": [
        "## Ilham"
      ]
    },
    {
      "cell_type": "code",
      "metadata": {
        "colab": {
          "base_uri": "https://localhost:8080/"
        },
        "id": "qAlMc3FlcTC8",
        "outputId": "06e6960d-f696-48dd-b565-d622fe9fca23"
      },
      "source": [
        "for i in list_symptoms[0:67]:\n",
        "  print(i)"
      ],
      "execution_count": null,
      "outputs": [
        {
          "output_type": "stream",
          "text": [
            "itching\n",
            "skin_rash\n",
            "nodal_skin_eruptions\n",
            "continuous_sneezing\n",
            "shivering\n",
            "chills\n",
            "joint_pain\n",
            "stomach_pain\n",
            "acidity\n",
            "ulcers_on_tongue\n",
            "muscle_wasting\n",
            "vomiting\n",
            "burning_micturition\n",
            "spotting_ urination\n",
            "fatigue\n",
            "weight_gain\n",
            "anxiety\n",
            "cold_hands_and_feets\n",
            "mood_swings\n",
            "weight_loss\n",
            "restlessness\n",
            "lethargy\n",
            "patches_in_throat\n",
            "irregular_sugar_level\n",
            "cough\n",
            "high_fever\n",
            "sunken_eyes\n",
            "breathlessness\n",
            "sweating\n",
            "dehydration\n",
            "indigestion\n",
            "headache\n",
            "yellowish_skin\n",
            "dark_urine\n",
            "nausea\n",
            "loss_of_appetite\n",
            "pain_behind_the_eyes\n",
            "back_pain\n",
            "constipation\n",
            "abdominal_pain\n",
            "diarrhoea\n",
            "mild_fever\n",
            "yellow_urine\n",
            "yellowing_of_eyes\n",
            "acute_liver_failure\n",
            "fluid_overload\n",
            "swelling_of_stomach\n",
            "swelled_lymph_nodes\n",
            "malaise\n",
            "blurred_and_distorted_vision\n",
            "phlegm\n",
            "throat_irritation\n",
            "redness_of_eyes\n",
            "sinus_pressure\n",
            "runny_nose\n",
            "congestion\n",
            "chest_pain\n",
            "weakness_in_limbs\n",
            "fast_heart_rate\n",
            "pain_during_bowel_movements\n",
            "pain_in_anal_region\n",
            "bloody_stool\n",
            "irritation_in_anus\n",
            "neck_pain\n",
            "dizziness\n",
            "cramps\n",
            "bruising\n"
          ],
          "name": "stdout"
        }
      ]
    },
    {
      "cell_type": "markdown",
      "metadata": {
        "id": "TCz6mODepHqq"
      },
      "source": [
        "Dayat"
      ]
    },
    {
      "cell_type": "code",
      "metadata": {
        "colab": {
          "base_uri": "https://localhost:8080/"
        },
        "id": "fXuJ-rzgpGAx",
        "outputId": "614cd5b4-d2f6-4f5b-964d-91a80da64491"
      },
      "source": [
        "for i in list_symptoms[67:-2]:\n",
        "  print(i)"
      ],
      "execution_count": null,
      "outputs": [
        {
          "output_type": "stream",
          "text": [
            "obesity\n",
            "swollen_legs\n",
            "swollen_blood_vessels\n",
            "puffy_face_and_eyes\n",
            "enlarged_thyroid\n",
            "brittle_nails\n",
            "swollen_extremeties\n",
            "excessive_hunger\n",
            "extra_marital_contacts\n",
            "drying_and_tingling_lips\n",
            "slurred_speech\n",
            "knee_pain\n",
            "hip_joint_pain\n",
            "muscle_weakness\n",
            "stiff_neck\n",
            "swelling_joints\n",
            "movement_stiffness\n",
            "spinning_movements\n",
            "loss_of_balance\n",
            "unsteadiness\n",
            "weakness_of_one_body_side\n",
            "loss_of_smell\n",
            "bladder_discomfort\n",
            "foul_smell_of urine\n",
            "continuous_feel_of_urine\n",
            "passage_of_gases\n",
            "internal_itching\n",
            "toxic_look_(typhos)\n",
            "depression\n",
            "irritability\n",
            "muscle_pain\n",
            "altered_sensorium\n",
            "red_spots_over_body\n",
            "belly_pain\n",
            "abnormal_menstruation\n",
            "dischromic _patches\n",
            "watering_from_eyes\n",
            "increased_appetite\n",
            "polyuria\n",
            "family_history\n",
            "mucoid_sputum\n",
            "rusty_sputum\n",
            "lack_of_concentration\n",
            "visual_disturbances\n",
            "receiving_blood_transfusion\n",
            "receiving_unsterile_injections\n",
            "coma\n",
            "stomach_bleeding\n",
            "distention_of_abdomen\n",
            "history_of_alcohol_consumption\n",
            "fluid_overload.1\n",
            "blood_in_sputum\n",
            "prominent_veins_on_calf\n",
            "palpitations\n",
            "painful_walking\n",
            "pus_filled_pimples\n",
            "blackheads\n",
            "scurring\n",
            "skin_peeling\n",
            "silver_like_dusting\n",
            "small_dents_in_nails\n",
            "inflammatory_nails\n",
            "blister\n",
            "red_sore_around_nose\n",
            "yellow_crust_ooze\n"
          ],
          "name": "stdout"
        }
      ]
    },
    {
      "cell_type": "markdown",
      "metadata": {
        "id": "8WRsDgu7qdyH"
      },
      "source": [
        "##Penyakit"
      ]
    },
    {
      "cell_type": "code",
      "metadata": {
        "id": "1O-LAzRbpJp_"
      },
      "source": [
        "list_penyakit = df['prognosis'].unique()"
      ],
      "execution_count": null,
      "outputs": []
    },
    {
      "cell_type": "code",
      "metadata": {
        "colab": {
          "base_uri": "https://localhost:8080/"
        },
        "id": "APux773OqlSO",
        "outputId": "231bc9a9-05c4-4e5f-f2c9-95ad1375f0d8"
      },
      "source": [
        "for i in list_penyakit:\n",
        "  print(i)"
      ],
      "execution_count": null,
      "outputs": [
        {
          "output_type": "stream",
          "text": [
            "Fungal infection\n",
            "Allergy\n",
            "GERD\n",
            "Chronic cholestasis\n",
            "Drug Reaction\n",
            "Peptic ulcer diseae\n",
            "AIDS\n",
            "Diabetes \n",
            "Gastroenteritis\n",
            "Bronchial Asthma\n",
            "Hypertension \n",
            "Migraine\n",
            "Cervical spondylosis\n",
            "Paralysis (brain hemorrhage)\n",
            "Jaundice\n",
            "Malaria\n",
            "Chicken pox\n",
            "Dengue\n",
            "Typhoid\n",
            "hepatitis A\n",
            "Hepatitis B\n",
            "Hepatitis C\n",
            "Hepatitis D\n",
            "Hepatitis E\n",
            "Alcoholic hepatitis\n",
            "Tuberculosis\n",
            "Common Cold\n",
            "Pneumonia\n",
            "Dimorphic hemmorhoids(piles)\n",
            "Heart attack\n",
            "Varicose veins\n",
            "Hypothyroidism\n",
            "Hyperthyroidism\n",
            "Hypoglycemia\n",
            "Osteoarthristis\n",
            "Arthritis\n",
            "(vertigo) Paroymsal  Positional Vertigo\n",
            "Acne\n",
            "Urinary tract infection\n",
            "Psoriasis\n",
            "Impetigo\n"
          ],
          "name": "stdout"
        }
      ]
    },
    {
      "cell_type": "code",
      "metadata": {
        "colab": {
          "base_uri": "https://localhost:8080/"
        },
        "id": "KuqG6S26qnCu",
        "outputId": "78993e41-50dd-4334-bb7e-2764e53345b2"
      },
      "source": [
        "len(list_penyakit)"
      ],
      "execution_count": null,
      "outputs": [
        {
          "output_type": "execute_result",
          "data": {
            "text/plain": [
              "41"
            ]
          },
          "metadata": {
            "tags": []
          },
          "execution_count": 35
        }
      ]
    },
    {
      "cell_type": "code",
      "metadata": {
        "id": "F7bysrX06udf"
      },
      "source": [
        "for i in list_symptoms:\n",
        "  print(i)"
      ],
      "execution_count": null,
      "outputs": []
    },
    {
      "cell_type": "markdown",
      "metadata": {
        "id": "Khz24FxsdVff"
      },
      "source": [
        "##Deskripsi Penyakit"
      ]
    },
    {
      "cell_type": "code",
      "metadata": {
        "id": "G5_06CxRdYsa"
      },
      "source": [
        "def translate(data):\n",
        "  translator = Translator()\n",
        "  translation = translator.translate(data, dest='id')\n",
        "  return translation.text"
      ],
      "execution_count": null,
      "outputs": []
    },
    {
      "cell_type": "code",
      "metadata": {
        "id": "ImSKtn-iQyOC"
      },
      "source": [
        "df_symp_des = pd.read_csv('/content/B21-CAP0047-Dokter.ai-MachineLearningRepository/keggle_dataset/dataset_2/symptom_Description.csv', \n",
        "                          names= ['disease', 'description'])\n",
        "df_symp_des.head()"
      ],
      "execution_count": null,
      "outputs": []
    },
    {
      "cell_type": "code",
      "metadata": {
        "id": "9POCAOb0SapN"
      },
      "source": [
        "disease_id = []\n",
        "description_id = []\n",
        "for i in range(len(df_symp_des['disease'])):\n",
        "  disease_id.append(translate(df_symp_des['disease'][i]))\n",
        "  description_id.append(translate(df_symp_des['description'][i]))\n",
        "\n",
        "df_symp_des['disease_id'] = disease_id\n",
        "df_symp_des['description_id'] = description_id\n",
        "df_symp_des.head()"
      ],
      "execution_count": null,
      "outputs": []
    },
    {
      "cell_type": "code",
      "metadata": {
        "id": "VrZbV1FMSpT5"
      },
      "source": [
        "df_symp_des.to_csv(r'/content/deskripsi_penyakit.csv',index=False)"
      ],
      "execution_count": null,
      "outputs": []
    },
    {
      "cell_type": "code",
      "metadata": {
        "id": "iONx2WD0grlW"
      },
      "source": [
        ""
      ],
      "execution_count": null,
      "outputs": []
    },
    {
      "cell_type": "markdown",
      "metadata": {
        "id": "4qFQ_gN9iTVi"
      },
      "source": [
        "##Datasat new"
      ]
    },
    {
      "cell_type": "code",
      "metadata": {
        "id": "lmOpgRHMjKeQ"
      },
      "source": [
        ""
      ],
      "execution_count": null,
      "outputs": []
    },
    {
      "cell_type": "markdown",
      "metadata": {
        "id": "dYRmInBfSNQp"
      },
      "source": [
        "## Cari Informasi Gejala"
      ]
    },
    {
      "cell_type": "code",
      "metadata": {
        "id": "mwJHVOLPSREs"
      },
      "source": [
        "import people_also_ask"
      ],
      "execution_count": null,
      "outputs": []
    },
    {
      "cell_type": "code",
      "metadata": {
        "colab": {
          "base_uri": "https://localhost:8080/"
        },
        "id": "S_XyUFcuSXGc",
        "outputId": "5e3c5dd5-b135-40e0-f6ad-ed8acf0e2c4a"
      },
      "source": [
        "list_question = people_also_ask.get_related_questions(\"shivering\")\n",
        "list_question"
      ],
      "execution_count": null,
      "outputs": [
        {
          "output_type": "execute_result",
          "data": {
            "text/plain": [
              "['What is shivering a symptom of?',\n",
              " 'What causes shivering without fever?',\n",
              " 'What causes uncontrollable shivering?',\n",
              " 'How can I stop shivering?']"
            ]
          },
          "metadata": {
            "tags": []
          },
          "execution_count": 40
        }
      ]
    },
    {
      "cell_type": "code",
      "metadata": {
        "id": "_sAPEfC9SmcM"
      },
      "source": [
        "answer['response']"
      ],
      "execution_count": null,
      "outputs": []
    },
    {
      "cell_type": "code",
      "metadata": {
        "id": "Tjt-rIHKTHdw"
      },
      "source": [
        "from googleapi import google\n",
        "num_page = 3\n",
        "search_results = google.search(\"Jerawat\", num_page)"
      ],
      "execution_count": null,
      "outputs": []
    },
    {
      "cell_type": "code",
      "metadata": {
        "id": "wisN-6hDWlwZ"
      },
      "source": [
        "search_results[0].description"
      ],
      "execution_count": null,
      "outputs": []
    },
    {
      "cell_type": "code",
      "metadata": {
        "id": "ucW5L4D-YrYy"
      },
      "source": [
        ""
      ],
      "execution_count": null,
      "outputs": []
    },
    {
      "cell_type": "markdown",
      "metadata": {
        "id": "uK1oo6Z7nXkO"
      },
      "source": [
        "## Ubah bentuk dataset ke ID"
      ]
    },
    {
      "cell_type": "code",
      "metadata": {
        "id": "GsuXmv6fnXGk"
      },
      "source": [
        "df_desease = pd.read_csv('/content/B21-CAP0047-Dokter.ai-MachineLearningRepository/dataset/desease based symptoms.csv')\n",
        "df_desease.drop(df_desease.columns[df_desease.columns.str.contains('unnamed',case = False)],axis = 1, inplace = True)"
      ],
      "execution_count": null,
      "outputs": []
    },
    {
      "cell_type": "code",
      "metadata": {
        "id": "0JEao31BofV6"
      },
      "source": [
        "df_symptoms = pd.read_csv('/content/B21-CAP0047-Dokter.ai-MachineLearningRepository/dataset/symptoms.csv')\n",
        "df_symptoms.drop(df_symptoms.columns[df_symptoms.columns.str.contains('unnamed',case = False)],axis = 1, inplace = True)"
      ],
      "execution_count": null,
      "outputs": []
    },
    {
      "cell_type": "code",
      "metadata": {
        "id": "bXefCG0B9oKx"
      },
      "source": [
        "df_desease['desease_id'] = df_desease.index.values.tolist()\n",
        "df_symptoms['symptoms_id'] = df_symptoms.index.values.tolist()"
      ],
      "execution_count": null,
      "outputs": []
    },
    {
      "cell_type": "code",
      "metadata": {
        "colab": {
          "base_uri": "https://localhost:8080/",
          "height": 204
        },
        "id": "myrdVP1zFSv_",
        "outputId": "d8b57f2c-b91a-4f7b-8a12-df7c1894c7c8"
      },
      "source": [
        "df_desease.head()"
      ],
      "execution_count": null,
      "outputs": [
        {
          "output_type": "execute_result",
          "data": {
            "text/html": [
              "<div>\n",
              "<style scoped>\n",
              "    .dataframe tbody tr th:only-of-type {\n",
              "        vertical-align: middle;\n",
              "    }\n",
              "\n",
              "    .dataframe tbody tr th {\n",
              "        vertical-align: top;\n",
              "    }\n",
              "\n",
              "    .dataframe thead th {\n",
              "        text-align: right;\n",
              "    }\n",
              "</style>\n",
              "<table border=\"1\" class=\"dataframe\">\n",
              "  <thead>\n",
              "    <tr style=\"text-align: right;\">\n",
              "      <th></th>\n",
              "      <th>Desease</th>\n",
              "      <th>Symptoms</th>\n",
              "      <th>desease_id</th>\n",
              "    </tr>\n",
              "  </thead>\n",
              "  <tbody>\n",
              "    <tr>\n",
              "      <th>0</th>\n",
              "      <td>Fungal infection</td>\n",
              "      <td>dischromic _patches, itching, nodal_skin_erupt...</td>\n",
              "      <td>0</td>\n",
              "    </tr>\n",
              "    <tr>\n",
              "      <th>1</th>\n",
              "      <td>Allergy</td>\n",
              "      <td>chills, continuous_sneezing, shivering, wateri...</td>\n",
              "      <td>1</td>\n",
              "    </tr>\n",
              "    <tr>\n",
              "      <th>2</th>\n",
              "      <td>GERD</td>\n",
              "      <td>acidity, chest_pain, cough, stomach_pain, ulce...</td>\n",
              "      <td>2</td>\n",
              "    </tr>\n",
              "    <tr>\n",
              "      <th>3</th>\n",
              "      <td>Chronic cholestasis</td>\n",
              "      <td>abdominal_pain, itching, loss_of_appetite, nau...</td>\n",
              "      <td>3</td>\n",
              "    </tr>\n",
              "    <tr>\n",
              "      <th>4</th>\n",
              "      <td>Drug Reaction</td>\n",
              "      <td>burning_micturition, itching, skin_rash, spott...</td>\n",
              "      <td>4</td>\n",
              "    </tr>\n",
              "  </tbody>\n",
              "</table>\n",
              "</div>"
            ],
            "text/plain": [
              "               Desease  ... desease_id\n",
              "0     Fungal infection  ...          0\n",
              "1              Allergy  ...          1\n",
              "2                 GERD  ...          2\n",
              "3  Chronic cholestasis  ...          3\n",
              "4        Drug Reaction  ...          4\n",
              "\n",
              "[5 rows x 3 columns]"
            ]
          },
          "metadata": {
            "tags": []
          },
          "execution_count": 133
        }
      ]
    },
    {
      "cell_type": "code",
      "metadata": {
        "colab": {
          "base_uri": "https://localhost:8080/",
          "height": 204
        },
        "id": "EruTmfA1FTCp",
        "outputId": "f853260e-1601-4320-9f37-b3779dfc0acf"
      },
      "source": [
        "df_symptoms.head()"
      ],
      "execution_count": null,
      "outputs": [
        {
          "output_type": "execute_result",
          "data": {
            "text/html": [
              "<div>\n",
              "<style scoped>\n",
              "    .dataframe tbody tr th:only-of-type {\n",
              "        vertical-align: middle;\n",
              "    }\n",
              "\n",
              "    .dataframe tbody tr th {\n",
              "        vertical-align: top;\n",
              "    }\n",
              "\n",
              "    .dataframe thead th {\n",
              "        text-align: right;\n",
              "    }\n",
              "</style>\n",
              "<table border=\"1\" class=\"dataframe\">\n",
              "  <thead>\n",
              "    <tr style=\"text-align: right;\">\n",
              "      <th></th>\n",
              "      <th>Symptoms</th>\n",
              "      <th>Desease</th>\n",
              "      <th>symptoms_id</th>\n",
              "    </tr>\n",
              "  </thead>\n",
              "  <tbody>\n",
              "    <tr>\n",
              "      <th>0</th>\n",
              "      <td>itching</td>\n",
              "      <td>Fungal infection, Chronic cholestasis, Drug Re...</td>\n",
              "      <td>0</td>\n",
              "    </tr>\n",
              "    <tr>\n",
              "      <th>1</th>\n",
              "      <td>skin_rash</td>\n",
              "      <td>Fungal infection, Drug Reaction, Chicken pox, ...</td>\n",
              "      <td>1</td>\n",
              "    </tr>\n",
              "    <tr>\n",
              "      <th>2</th>\n",
              "      <td>nodal_skin_eruptions</td>\n",
              "      <td>Fungal infection</td>\n",
              "      <td>2</td>\n",
              "    </tr>\n",
              "    <tr>\n",
              "      <th>3</th>\n",
              "      <td>continuous_sneezing</td>\n",
              "      <td>Allergy, Common Cold</td>\n",
              "      <td>3</td>\n",
              "    </tr>\n",
              "    <tr>\n",
              "      <th>4</th>\n",
              "      <td>shivering</td>\n",
              "      <td>Allergy</td>\n",
              "      <td>4</td>\n",
              "    </tr>\n",
              "  </tbody>\n",
              "</table>\n",
              "</div>"
            ],
            "text/plain": [
              "               Symptoms  ... symptoms_id\n",
              "0               itching  ...           0\n",
              "1             skin_rash  ...           1\n",
              "2  nodal_skin_eruptions  ...           2\n",
              "3   continuous_sneezing  ...           3\n",
              "4             shivering  ...           4\n",
              "\n",
              "[5 rows x 3 columns]"
            ]
          },
          "metadata": {
            "tags": []
          },
          "execution_count": 134
        }
      ]
    },
    {
      "cell_type": "code",
      "metadata": {
        "id": "J9vN5N8XCNmj"
      },
      "source": [
        "def getIndex(data, data_id, key):\n",
        "  x = 999\n",
        "  \n",
        "  for i in range(len(data)):\n",
        "    # print(\"{} : {} : {}\".format(data[i], key, data[i]==key))\n",
        "    if data[i] == key:\n",
        "      x = data_id[i]\n",
        "      # print(x)\n",
        "  return x"
      ],
      "execution_count": null,
      "outputs": []
    },
    {
      "cell_type": "code",
      "metadata": {
        "colab": {
          "base_uri": "https://localhost:8080/",
          "height": 204
        },
        "id": "8UFReSMT-2NK",
        "outputId": "a10eb330-832c-4770-cdef-829b10f229b0"
      },
      "source": [
        "list_symtoms_id = []\n",
        "for i in range(len(df_desease)):\n",
        "  # print(df_desease['Symptoms'][i])\n",
        "  str_symptoms = df_desease['Symptoms'][i].split(', ')\n",
        "  symptoms_id = []\n",
        "  for dat in str_symptoms:\n",
        "    symptoms_id.append(getIndex(df_symptoms['Symptoms'], df_symptoms['symptoms_id'], dat))\n",
        "  list_symtoms_id.append(symptoms_id)\n",
        "\n",
        "df_desease['symptoms_id'] = list_symtoms_id\n",
        "df_desease.head()"
      ],
      "execution_count": null,
      "outputs": [
        {
          "output_type": "execute_result",
          "data": {
            "text/html": [
              "<div>\n",
              "<style scoped>\n",
              "    .dataframe tbody tr th:only-of-type {\n",
              "        vertical-align: middle;\n",
              "    }\n",
              "\n",
              "    .dataframe tbody tr th {\n",
              "        vertical-align: top;\n",
              "    }\n",
              "\n",
              "    .dataframe thead th {\n",
              "        text-align: right;\n",
              "    }\n",
              "</style>\n",
              "<table border=\"1\" class=\"dataframe\">\n",
              "  <thead>\n",
              "    <tr style=\"text-align: right;\">\n",
              "      <th></th>\n",
              "      <th>Desease</th>\n",
              "      <th>Symptoms</th>\n",
              "      <th>desease_id</th>\n",
              "      <th>symptoms_id</th>\n",
              "    </tr>\n",
              "  </thead>\n",
              "  <tbody>\n",
              "    <tr>\n",
              "      <th>0</th>\n",
              "      <td>Fungal infection</td>\n",
              "      <td>dischromic _patches, itching, nodal_skin_erupt...</td>\n",
              "      <td>0</td>\n",
              "      <td>[102, 0, 2, 1]</td>\n",
              "    </tr>\n",
              "    <tr>\n",
              "      <th>1</th>\n",
              "      <td>Allergy</td>\n",
              "      <td>chills, continuous_sneezing, shivering, wateri...</td>\n",
              "      <td>1</td>\n",
              "      <td>[5, 3, 4, 103]</td>\n",
              "    </tr>\n",
              "    <tr>\n",
              "      <th>2</th>\n",
              "      <td>GERD</td>\n",
              "      <td>acidity, chest_pain, cough, stomach_pain, ulce...</td>\n",
              "      <td>2</td>\n",
              "      <td>[8, 56, 24, 7, 9, 11]</td>\n",
              "    </tr>\n",
              "    <tr>\n",
              "      <th>3</th>\n",
              "      <td>Chronic cholestasis</td>\n",
              "      <td>abdominal_pain, itching, loss_of_appetite, nau...</td>\n",
              "      <td>3</td>\n",
              "      <td>[39, 0, 35, 34, 11, 43, 32]</td>\n",
              "    </tr>\n",
              "    <tr>\n",
              "      <th>4</th>\n",
              "      <td>Drug Reaction</td>\n",
              "      <td>burning_micturition, itching, skin_rash, spott...</td>\n",
              "      <td>4</td>\n",
              "      <td>[12, 0, 1, 13, 7]</td>\n",
              "    </tr>\n",
              "  </tbody>\n",
              "</table>\n",
              "</div>"
            ],
            "text/plain": [
              "               Desease  ...                  symptoms_id\n",
              "0     Fungal infection  ...               [102, 0, 2, 1]\n",
              "1              Allergy  ...               [5, 3, 4, 103]\n",
              "2                 GERD  ...        [8, 56, 24, 7, 9, 11]\n",
              "3  Chronic cholestasis  ...  [39, 0, 35, 34, 11, 43, 32]\n",
              "4        Drug Reaction  ...            [12, 0, 1, 13, 7]\n",
              "\n",
              "[5 rows x 4 columns]"
            ]
          },
          "metadata": {
            "tags": []
          },
          "execution_count": 136
        }
      ]
    },
    {
      "cell_type": "code",
      "metadata": {
        "colab": {
          "base_uri": "https://localhost:8080/",
          "height": 204
        },
        "id": "MrqEtLNnGaS3",
        "outputId": "3b44928f-34f0-43ad-ef91-8a145af04882"
      },
      "source": [
        "list_desease_id = []\n",
        "for i in range(len(df_symptoms)):\n",
        "  # print(df_symptoms['Desease'][i])\n",
        "  deseases_id = []\n",
        "  if (not pd.isna(df_symptoms['Desease'][i])):\n",
        "    str_deseases = df_symptoms['Desease'][i].split(', ')\n",
        "    for dat in str_deseases:\n",
        "      deseases_id.append(getIndex(df_desease['Desease'], df_desease['desease_id'], dat))\n",
        "  list_desease_id.append(deseases_id)\n",
        "\n",
        "df_symptoms['desease_id'] = list_desease_id\n",
        "df_symptoms.head()"
      ],
      "execution_count": null,
      "outputs": [
        {
          "output_type": "execute_result",
          "data": {
            "text/html": [
              "<div>\n",
              "<style scoped>\n",
              "    .dataframe tbody tr th:only-of-type {\n",
              "        vertical-align: middle;\n",
              "    }\n",
              "\n",
              "    .dataframe tbody tr th {\n",
              "        vertical-align: top;\n",
              "    }\n",
              "\n",
              "    .dataframe thead th {\n",
              "        text-align: right;\n",
              "    }\n",
              "</style>\n",
              "<table border=\"1\" class=\"dataframe\">\n",
              "  <thead>\n",
              "    <tr style=\"text-align: right;\">\n",
              "      <th></th>\n",
              "      <th>Symptoms</th>\n",
              "      <th>Desease</th>\n",
              "      <th>symptoms_id</th>\n",
              "      <th>desease_id</th>\n",
              "    </tr>\n",
              "  </thead>\n",
              "  <tbody>\n",
              "    <tr>\n",
              "      <th>0</th>\n",
              "      <td>itching</td>\n",
              "      <td>Fungal infection, Chronic cholestasis, Drug Re...</td>\n",
              "      <td>0</td>\n",
              "      <td>[0, 3, 4, 14, 16, 20]</td>\n",
              "    </tr>\n",
              "    <tr>\n",
              "      <th>1</th>\n",
              "      <td>skin_rash</td>\n",
              "      <td>Fungal infection, Drug Reaction, Chicken pox, ...</td>\n",
              "      <td>1</td>\n",
              "      <td>[0, 4, 16, 17, 37, 39, 40]</td>\n",
              "    </tr>\n",
              "    <tr>\n",
              "      <th>2</th>\n",
              "      <td>nodal_skin_eruptions</td>\n",
              "      <td>Fungal infection</td>\n",
              "      <td>2</td>\n",
              "      <td>[0]</td>\n",
              "    </tr>\n",
              "    <tr>\n",
              "      <th>3</th>\n",
              "      <td>continuous_sneezing</td>\n",
              "      <td>Allergy, Common Cold</td>\n",
              "      <td>3</td>\n",
              "      <td>[1, 26]</td>\n",
              "    </tr>\n",
              "    <tr>\n",
              "      <th>4</th>\n",
              "      <td>shivering</td>\n",
              "      <td>Allergy</td>\n",
              "      <td>4</td>\n",
              "      <td>[1]</td>\n",
              "    </tr>\n",
              "  </tbody>\n",
              "</table>\n",
              "</div>"
            ],
            "text/plain": [
              "               Symptoms  ...                  desease_id\n",
              "0               itching  ...       [0, 3, 4, 14, 16, 20]\n",
              "1             skin_rash  ...  [0, 4, 16, 17, 37, 39, 40]\n",
              "2  nodal_skin_eruptions  ...                         [0]\n",
              "3   continuous_sneezing  ...                     [1, 26]\n",
              "4             shivering  ...                         [1]\n",
              "\n",
              "[5 rows x 4 columns]"
            ]
          },
          "metadata": {
            "tags": []
          },
          "execution_count": 137
        }
      ]
    },
    {
      "cell_type": "code",
      "metadata": {
        "id": "d3-x-sAD_0lg"
      },
      "source": [
        "df_desease.to_csv('desease_based_symptoms_with_id')\n",
        "df_symptoms.to_csv('symptoms_based_desease_with_id')"
      ],
      "execution_count": null,
      "outputs": []
    },
    {
      "cell_type": "code",
      "metadata": {
        "id": "lyrm5xApNb5p"
      },
      "source": [
        ""
      ],
      "execution_count": null,
      "outputs": []
    }
  ]
}